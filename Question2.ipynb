{
 "cells": [
  {
   "attachments": {},
   "cell_type": "markdown",
   "metadata": {},
   "source": [
    "Question 2 GGE Assignment 4\n",
    "\n",
    "Here we will upload a csv as a table in Google CLoud SQL\n",
    "\n",
    "A database and bucket will be created using table1.csv\n",
    "Then we will run some queries using the table using Google CLoud SQL"
   ]
  },
  {
   "cell_type": "code",
   "execution_count": 33,
   "metadata": {},
   "outputs": [],
   "source": [
    "#We will need to begin by ensuing the proper modules needed are imported\n",
    "\n",
    "import pandas as pd\n",
    "import MySQLdb\n",
    "import mysql.connector"
   ]
  },
  {
   "cell_type": "code",
   "execution_count": 34,
   "metadata": {},
   "outputs": [],
   "source": [
    "#Now we will need to verify our credentials to Goolge Cloud Platform\n",
    "\n",
    "db = MySQLdb.connect(host='<your host number>', user='<your username>', passwd='<your password>', db='<your database>')\n",
    "\n"
   ]
  },
  {
   "cell_type": "code",
   "execution_count": null,
   "metadata": {},
   "outputs": [],
   "source": [
    "#Now we need to create an initial bucket and we need special modules for google cloud\n",
    "\n",
    "import os\n",
    "\n",
    "os.environ['GOOGLE_APPLICATION_CREDENTIALS'] = r\"<path to JSON authentication credentials>\"\n",
    "\n",
    "from google.cloud import storage\n",
    "\n",
    "# Create a client object for interacting with the Cloud Storage API\n",
    "client = storage.Client()\n",
    "\n",
    "# Create a new bucket with a unique name\n",
    "bucket_name = '<your bucket name>'\n",
    "bucket = client.create_bucket(bucket_name)\n",
    "\n",
    "print(f\"Bucket '{bucket.name}' created.\")"
   ]
  },
  {
   "attachments": {},
   "cell_type": "markdown",
   "metadata": {},
   "source": [
    "Now a database is needed to be created"
   ]
  },
  {
   "cell_type": "code",
   "execution_count": null,
   "metadata": {},
   "outputs": [],
   "source": [
    "#connect to the database and make cursor\n",
    "db = MySQLdb.connect(host='<Your host number>', user='<Your username>', passwd='<your password>', db='<your database_name>')\n",
    "cursor = db.cursor()\n",
    "\n",
    "\n",
    "# Create a new database\n",
    "db_name = '<your database name>'\n",
    "cursor.execute(f\"CREATE DATABASE {db_name}\")\n",
    "\n",
    "print(f\"Database '{db_name}' created.\")\n",
    "\n",
    "# Commit the changes to the database\n",
    "db.commit()\n",
    "\n",
    "# Close the database connection\n",
    "db.close()"
   ]
  },
  {
   "attachments": {},
   "cell_type": "markdown",
   "metadata": {},
   "source": [
    "Now we need to upload a table to Google Cloud SQL"
   ]
  },
  {
   "cell_type": "code",
   "execution_count": null,
   "metadata": {},
   "outputs": [],
   "source": [
    "#connect to the database and make cursor\n",
    "db = MySQLdb.connect(host='<Your host number>', user='<Your username>', passwd='<your password>', db='<your database_name>')\n",
    "cursor = db.cursor()\n",
    "\n",
    "# Create a cursor object to execute SQL queries\n",
    "cursor = db.cursor()\n",
    "\n",
    "# Define the SQL query to create the table\n",
    "table_name = 'fredericton_locations'\n",
    "query = f\"CREATE TABLE {table_name} (place_ID VARCHAR(255), name VARCHAR(255), address VARCHAR(255), type VARCHAR(255))\"\n",
    "\n",
    "# Execute the SQL query\n",
    "cursor.execute(query)\n",
    "\n",
    "# Commit the changes to the database\n",
    "db.commit()\n",
    "\n",
    "# Close the database connection\n",
    "db.close()"
   ]
  },
  {
   "attachments": {},
   "cell_type": "markdown",
   "metadata": {},
   "source": [
    "Here we are going to add the data from table1.csv to the Google CLoud SQL database"
   ]
  },
  {
   "cell_type": "code",
   "execution_count": 86,
   "metadata": {},
   "outputs": [],
   "source": [
    "# Connect to the database\n",
    "db = MySQLdb.connect(host='<Your host number>', user='<Your username>', passwd='<your password>', db='<your database_name>')\n",
    "\n",
    "# Define the data to be inserted\n",
    "df = pd.read_csv('table1.csv')\n",
    "\n",
    "#as we are taking raw data from CSV we need to add headers within frame to call that to the table in GCP\n",
    "df.columns = [['place_ID', 'name', 'address', 'type']]\n",
    "\n",
    "# Execute the INSERT statement for each row of data\n",
    "cursor = db.cursor()\n",
    "for index, row in df.iterrows():\n",
    "    query = \"INSERT INTO fredericton_places (place_ID, name, address, type) VALUES (%s, %s, %s, %s)\"\n",
    "    values = (row['place_ID'], row['name'], row['address'], row['type'])\n",
    "    cursor.execute(query, values)\n",
    "\n",
    "# Commit the changes to the database\n",
    "db.commit()\n",
    "\n",
    "# Close the database connection\n",
    "db.close()"
   ]
  },
  {
   "attachments": {},
   "cell_type": "markdown",
   "metadata": {},
   "source": [
    "We can verify our work"
   ]
  },
  {
   "cell_type": "code",
   "execution_count": null,
   "metadata": {},
   "outputs": [],
   "source": [
    "#connect to the database and make cursor\n",
    "db = MySQLdb.connect(host='<Your host number>', user='<Your username>', passwd='<your password>', db='<your database_name>')\n",
    "cursor = db.cursor()\n",
    "\n",
    "#### Execute query ####\n",
    "\n",
    "query1 = (\"select * from fredericton_locations\")\n",
    "cursor.execute(query1)\n",
    "\n",
    "\n",
    "#### Create dataframe from resultant table ####\n",
    "frame = pd.DataFrame(cursor.fetchall())\n",
    "\n",
    "print(frame)\n",
    "\n",
    "frame.to_csv('output.csv')"
   ]
  },
  {
   "attachments": {},
   "cell_type": "markdown",
   "metadata": {},
   "source": [
    "We can now start queriying\n",
    "\n",
    "To get solely the name of the business and their address"
   ]
  },
  {
   "cell_type": "code",
   "execution_count": 91,
   "metadata": {},
   "outputs": [],
   "source": [
    "db = MySQLdb.connect(host='<Your host number>', user='<your username>', passwd='test12345', db='freddy_places')\n",
    "\n",
    "cursor = db.cursor()\n",
    "\n",
    "cursor.execute(\"SELECT name, address FROM fredericton_places\")\n",
    "\n",
    "frame = pd.DataFrame(cursor.fetchall())\n",
    "\n",
    "frame.to_csv('name_address.csv')\n",
    "\n",
    "cursor.close()\n",
    "db.close()\n"
   ]
  },
  {
   "attachments": {},
   "cell_type": "markdown",
   "metadata": {},
   "source": [
    "Here we will find what types of places is in the database"
   ]
  },
  {
   "cell_type": "code",
   "execution_count": 92,
   "metadata": {},
   "outputs": [],
   "source": [
    "db = MySQLdb.connect(host='<Your host number>', user='<your username>', passwd='test12345', db='freddy_places')\n",
    "\n",
    "cursor = db.cursor()\n",
    "\n",
    "cursor.execute(\"SELECT DISTINCT type FROM fredericton_places\")\n",
    "\n",
    "frame = pd.DataFrame(cursor.fetchall())\n",
    "\n",
    "frame.to_csv('distinct_types.csv')\n",
    "\n",
    "cursor.close()\n",
    "db.close()\n"
   ]
  },
  {
   "attachments": {},
   "cell_type": "markdown",
   "metadata": {},
   "source": [
    "Now we will look into delivery servies in fredericton"
   ]
  },
  {
   "cell_type": "code",
   "execution_count": 94,
   "metadata": {},
   "outputs": [],
   "source": [
    "db = MySQLdb.connect(host='<Your host number>', user='<your username>', passwd='test12345', db='freddy_places')\n",
    "\n",
    "cursor = db.cursor()\n",
    "\n",
    "cursor.execute(\"SELECT * FROM fredericton_places WHERE type = 'meal_delivery'\")\n",
    "\n",
    "frame = pd.DataFrame(cursor.fetchall())\n",
    "\n",
    "frame.to_csv('delivery_results.csv')\n",
    "\n",
    "cursor.close()\n",
    "db.close()"
   ]
  }
 ],
 "metadata": {
  "kernelspec": {
   "display_name": "Python 3",
   "language": "python",
   "name": "python3"
  },
  "language_info": {
   "codemirror_mode": {
    "name": "ipython",
    "version": 3
   },
   "file_extension": ".py",
   "mimetype": "text/x-python",
   "name": "python",
   "nbconvert_exporter": "python",
   "pygments_lexer": "ipython3",
   "version": "3.11.1"
  },
  "orig_nbformat": 4
 },
 "nbformat": 4,
 "nbformat_minor": 2
}
