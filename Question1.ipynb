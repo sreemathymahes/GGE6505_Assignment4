{
 "cells": [
  {
   "attachments": {},
   "cell_type": "markdown",
   "metadata": {},
   "source": [
    "Question 1 GGE 6505 Assignment 4\n",
    "\n",
    "In this assignment we will use Google Places API to find places in Fredericton and then store it in a csv file\n",
    "\n"
   ]
  },
  {
   "cell_type": "code",
   "execution_count": null,
   "metadata": {},
   "outputs": [],
   "source": [
    "#The following code will create the first CSV document which will be used as the first table our database.\n",
    "\n",
    "import requests\n",
    "import csv\n",
    "\n",
    "search = [\"bank\", \"bar\", \"meal_delivery\", \"museum\"]\n",
    "\n",
    "# a list of types of places can be found at \n",
    "# https://developers.google.com/maps/documentation/places/web-service/supported_types\n",
    "\n",
    "y = len(search)\n",
    "\n",
    "with open('table1.csv', 'w',newline='') as csvfile:\n",
    "    fieldnames = ['id', 'name', 'address', 'type']\n",
    "    writer = csv.DictWriter(csvfile, fieldnames=fieldnames)\n",
    "\n",
    "    for i in range(y):\n",
    "    \n",
    "        #the parameters are the URL for the API, location of your search, type, radius of search, and yur API key\n",
    "        url = \"https://maps.googleapis.com/maps/api/place/textsearch/json\"\n",
    "        params = {\n",
    "            \"location\": \"45.9636,-66.6431\", #location of Fredericton,NB\n",
    "            \"type\": search[i], #from above\n",
    "            \"radius\": 5000, #in meters\n",
    "            \"key\": \"\"#Your api key here\n",
    "        }\n",
    "\n",
    "        response = requests.get(url, params)\n",
    "        data = response.json()\n",
    " \n",
    "        #Here we are putting the data for each place as a row into a CSV file called table1.csv \n",
    "\n",
    "        for result in data[\"results\"]:\n",
    "            ID = result[\"place_id\"]\n",
    "            name = result[\"name\"]\n",
    "            address = result[\"formatted_address\"]\n",
    "            type = search[i]\n",
    "            with open('table1.csv', 'w',newline='') as csvfile:\n",
    "                writer.writerow({'id': ID, 'name': name, 'address': address, 'type' : type})\n"
   ]
  }
 ],
 "metadata": {
  "kernelspec": {
   "display_name": "Python 3",
   "language": "python",
   "name": "python3"
  },
  "language_info": {
   "name": "python",
   "version": "3.11.1"
  },
  "orig_nbformat": 4
 },
 "nbformat": 4,
 "nbformat_minor": 2
}
